{
 "cells": [
  {
   "cell_type": "markdown",
   "metadata": {},
   "source": [
    "# Hello Python\n",
    "\n",
    "I put some examples of usage of various Python modules. Note that this is just something for me to quickly refresh my memory, you should just read the documentation for explanations and full coverage of module capabilities. "
   ]
  },
  {
   "cell_type": "markdown",
   "metadata": {},
   "source": [
    "# Input / Output"
   ]
  },
  {
   "cell_type": "code",
   "execution_count": 1,
   "metadata": {},
   "outputs": [
    {
     "name": "stdout",
     "output_type": "stream",
     "text": [
      "Don't talk to strangers\n",
      "Don't talk to strangers\n",
      "\n",
      "Don't, talk, to, strangers\n",
      "Don't talk to strangers\n"
     ]
    }
   ],
   "source": [
    "import sys\n",
    "\n",
    "print(\"Don't talk to strangers\")\n",
    "print(\"Don't talk to strangers\", end='\\n\\n')\n",
    "print(\"Don't\", \"talk\", \"to\", \"strangers\", sep=', ')\n",
    "print(\"Don't talk to strangers\", file=sys.stdout, flush=True)"
   ]
  },
  {
   "cell_type": "code",
   "execution_count": 2,
   "metadata": {},
   "outputs": [
    {
     "name": "stdout",
     "output_type": "stream",
     "text": [
      "eggs and spam and eggs\n",
      "This spam is absolutely horrible. Also 3 + 1 = ?\n",
      "31.416,   31.416, \n",
      "  31.416.\n"
     ]
    }
   ],
   "source": [
    "import math\n",
    "\n",
    "print('{1} and {0} and {1}'.format('spam', 'eggs')) # use duplicate indices\n",
    "print('This {food} is {adjective}. Also {1} + {0} = ?'.format( # pass kwargs and use their keys\n",
    "    1, 3, food='spam', adjective='absolutely horrible'\n",
    "))\n",
    "print('{0:.3f}, {0:8.3f}, '.format(10 * math.pi)) # {key:width.precisionf}\n",
    "\n",
    "print('%8.3f.' % (10 * math.pi))# old printf style"
   ]
  },
  {
   "cell_type": "code",
   "execution_count": 3,
   "metadata": {},
   "outputs": [
    {
     "name": "stdout",
     "output_type": "stream",
     "text": [
      "Since 3.6 Python has format strings! Use values from the context like this a=1024 rest=[1, 2, 3]\n"
     ]
    }
   ],
   "source": [
    "a = 10\n",
    "rest = [1, 2, 3]\n",
    "print(f\"Since 3.6 Python has format strings! Use values from the context like this a={2**a} rest={rest}\")"
   ]
  },
  {
   "cell_type": "code",
   "execution_count": 4,
   "metadata": {},
   "outputs": [
    {
     "name": "stdout",
     "output_type": "stream",
     "text": [
      "440 om too m\n",
      "440 16\n",
      "440 16\n",
      "440 16\n",
      "440 16\n"
     ]
    }
   ],
   "source": [
    "with open('garden.txt') as opened:\n",
    "    content = opened.read() # reads everything as one string\n",
    "    chars = len(content)\n",
    "    print(chars, content[2:10])\n",
    "\n",
    "with open('garden.txt') as opened:\n",
    "    lines, chars = 0, 0\n",
    "    line = opened.readline()\n",
    "    while line:\n",
    "        lines += 1\n",
    "        chars += len(line)\n",
    "        line = opened.readline()\n",
    "    print(chars, lines)\n",
    "\n",
    "with open('garden.txt') as opened:\n",
    "    lines, chars = 0, 0\n",
    "    for line in opened:\n",
    "        lines += 1\n",
    "        chars += len(line)\n",
    "    print(chars, lines)\n",
    "\n",
    "with open('garden.txt') as opened: # this is the idiomatic way if you have no special requirements\n",
    "    lines, chars = 0, 0\n",
    "    for line in opened: # this is memory efficient since it is a generator\n",
    "        lines += 1\n",
    "        chars += len(line)\n",
    "    print(chars, lines)\n",
    "    \n",
    "with open('garden.txt') as opened:\n",
    "    content = opened.readlines() # reads everything split into lines\n",
    "    lines = len(content)\n",
    "    chars = sum(map(len, content))\n",
    "    print(chars, lines)"
   ]
  },
  {
   "cell_type": "markdown",
   "metadata": {},
   "source": [
    "# Regexes and Globs"
   ]
  },
  {
   "cell_type": "code",
   "execution_count": 5,
   "metadata": {},
   "outputs": [
    {
     "name": "stdout",
     "output_type": "stream",
     "text": [
      "<class 'str'> [^abc]\\d{2}\n",
      "<class '_sre.SRE_Pattern'> re.compile('[^abc]\\\\d{2}')\n",
      "match\n",
      "None\n",
      "<_sre.SRE_Match object; span=(0, 3), match='p54'>\n",
      "fullmatch\n",
      "None\n",
      "None\n",
      "<_sre.SRE_Match object; span=(0, 3), match='p54'>\n",
      "search\n",
      "<_sre.SRE_Match object; span=(4, 7), match='C32'>\n",
      "<_sre.SRE_Match object; span=(8, 11), match='p54'>\n",
      "findall\n",
      "['p54', 'h99', 'y11']\n",
      "finditer\n",
      "<callable_iterator object at 0x7fdfc6763e48>\n",
      "First:  <_sre.SRE_Match object; span=(8, 11), match='p54'>\n",
      "split\n",
      "['a12', 'c32', '', 'p54', 'b23', 'h99 y11']\n",
      "sub\n",
      "a__ c__ p__ b__ h_9 y11\n"
     ]
    }
   ],
   "source": [
    "import re\n",
    "\n",
    "regex_string = r'[^abc]\\d{2}' # r - raw string notation, no need to escape backslashes \\\\d\n",
    "print(type(regex_string), regex_string) # still a string, not compiled\n",
    "\n",
    "compiled_regex = re.compile(regex_string)\n",
    "print(type(compiled_regex), compiled_regex)\n",
    "\n",
    "print('match')\n",
    "print(re.match(regex_string, 'a12 p54 b23'))\n",
    "print(re.match(regex_string, 'p54 b23')) # matches prefix\n",
    "\n",
    "print('fullmatch')\n",
    "print(re.fullmatch(regex_string, 'a12 p54 b23'))\n",
    "print(re.fullmatch(regex_string, 'p54 b23'))\n",
    "print(re.fullmatch(regex_string, 'p54'))  # only matches full string\n",
    "\n",
    "print('search')\n",
    "print(re.search(regex_string, 'a12 C32 p54 b23 h99 y11')) # matches anywhere\n",
    "print(re.search(regex_string, 'a12 C32 p54 b23 h99 y11', flags=re.I)) \n",
    "# many useful flags, passed to function or to compile\n",
    "# match: group() returns string, start() end() and span() return positions of match\n",
    "\n",
    "print('findall')\n",
    "print(re.findall(regex_string, 'a12 c32 p54 b23 h99 y11'))\n",
    "\n",
    "print('finditer')\n",
    "print(re.finditer(regex_string, 'a12 c32 p54 b23 h99 y11'))\n",
    "print('First: ', next(re.finditer(regex_string, 'a12 c32 p54 b23 h99 y11')))\n",
    "\n",
    "print('split')\n",
    "print(re.split(r'\\s', 'a12 c32  p54 b23\\th99 y11', maxsplit=5))\n",
    "\n",
    "print('sub')\n",
    "print(re.sub(r'\\d', '_', 'a12 c32 p54 b23 h99 y11', count=9))"
   ]
  },
  {
   "cell_type": "code",
   "execution_count": 6,
   "metadata": {},
   "outputs": [
    {
     "name": "stdout",
     "output_type": "stream",
     "text": [
      "<_sre.SRE_Match object; span=(0, 7), match='0120340'>\n",
      "<_sre.SRE_Match object; span=(0, 4), match='0120'>\n"
     ]
    }
   ],
   "source": [
    "# Useful regex concept:\n",
    "\n",
    "print(re.match('0\\d*0', '012034056')) # greedy * matches all it can '0120340'\n",
    "print(re.match('0\\d*?0', '012034056')) # lazy *? matches as few characters as possible '0120'\n",
    "\n",
    "# Also those, but better refer to docs when there is a need\n",
    "# \\w - unicode word characted \n",
    "# \\s - whitespace\n",
    "# \\d digit\n",
    "# \\b - beginning and end of a word\n",
    "\n",
    "# \\W \\S - matches all that the lowercase version does not match"
   ]
  },
  {
   "cell_type": "code",
   "execution_count": 7,
   "metadata": {},
   "outputs": [
    {
     "name": "stdout",
     "output_type": "stream",
     "text": [
      "['garden.txt']\n"
     ]
    }
   ],
   "source": [
    "import glob\n",
    "\n",
    "print(glob.glob('*.txt'))\n",
    "\n",
    "# by the way, python globs do not support recursive ** !! Use glob2 package "
   ]
  },
  {
   "cell_type": "markdown",
   "metadata": {
    "collapsed": true
   },
   "source": [
    "# Exceptions"
   ]
  },
  {
   "cell_type": "code",
   "execution_count": 8,
   "metadata": {},
   "outputs": [],
   "source": [
    "class CustomException(Exception): # must be a subclass of Exception\n",
    "    pass\n",
    "\n",
    "class NotAException:\n",
    "    pass\n",
    "\n",
    "# raise CustomException('everything will be fire') # CustomException: everything will be fire\n",
    "# raise NotAException # TypeError: exceptions must derive from BaseException"
   ]
  },
  {
   "cell_type": "code",
   "execution_count": 9,
   "metadata": {},
   "outputs": [
    {
     "name": "stdout",
     "output_type": "stream",
     "text": [
      "Everything went okay\n",
      "Always excecute, cleanup\n"
     ]
    }
   ],
   "source": [
    "try:\n",
    "    pass\n",
    "#     raise OSError('bad os')\n",
    "#     raise TypeError('bad type')\n",
    "#     raise ValueError('bad stuff')\n",
    "except OSError as err: # bind exception to variable\n",
    "    print(\"OS error: {0}\".format(err))\n",
    "    raise ValueError from err # rethrow, sets __cause__, will get different message (cause vs while handling)\n",
    "except (RuntimeError, TypeError, NameError): # multiple\n",
    "    print(\"Could not convert data to an integer.\")\n",
    "    raise ValueError from None # throws but clears traceback and avoids \n",
    "                               # 'During handling of _, another exception occurred'\n",
    "except: # handle all other exceptions\n",
    "    print(\"Unexpected error:\", sys.exc_info()[0])\n",
    "    raise # rethrows without adding anything to traceback\n",
    "else:\n",
    "    print('Everything went okay')\n",
    "finally:\n",
    "    print('Always excecute, cleanup')"
   ]
  },
  {
   "cell_type": "code",
   "execution_count": 10,
   "metadata": {},
   "outputs": [
    {
     "name": "stdout",
     "output_type": "stream",
     "text": [
      "30\n"
     ]
    }
   ],
   "source": [
    "def wonder_what_will_be_returned():\n",
    "    try:\n",
    "        raise ValueError\n",
    "    except ValueError:\n",
    "#         return 10 \n",
    "        raise # does not matter if we return or rethrow here, finally overrides the result\n",
    "    else:\n",
    "        return 20\n",
    "    finally:\n",
    "        return 30 # <- this one\n",
    "\n",
    "print(wonder_what_will_be_returned())"
   ]
  },
  {
   "cell_type": "markdown",
   "metadata": {},
   "source": [
    "# Random"
   ]
  },
  {
   "cell_type": "code",
   "execution_count": 11,
   "metadata": {},
   "outputs": [
    {
     "name": "stdout",
     "output_type": "stream",
     "text": [
      "12\n",
      "14\n",
      "b\n",
      "['b', 'e', 'a']\n",
      "['d', 'c', 'a', 'e', 'b']\n",
      "0.7446921713252124\n",
      "-1.8501301023520411\n",
      "2.970174481495891\n"
     ]
    }
   ],
   "source": [
    "import random\n",
    "\n",
    "random.seed(13) # global seed\n",
    "\n",
    "print(random.randrange(9, 18, 3)) # 9, 12, 15 Not including 18, just like range\n",
    "print(random.randint(10, 20)) # [10, 20] inclusive\n",
    "\n",
    "chars = ['a', 'b', 'c', 'd', 'e']\n",
    "print(random.choice(chars))\n",
    "print(random.sample(chars, 3))\n",
    "random.shuffle(chars)\n",
    "print(chars)\n",
    "\n",
    "print(random.random()) # uniform [0.0, 1.0)\n",
    "print(random.uniform(-2.0, 3.0)) # uniform [a, b]\n",
    "print(random.normalvariate(5.0, 1.0))\n",
    "# other like triangular(low, high, mode), gammavariate(alpha, beta), weibullvariate(alpha, beta)"
   ]
  },
  {
   "cell_type": "markdown",
   "metadata": {},
   "source": [
    "# Datetime"
   ]
  },
  {
   "cell_type": "code",
   "execution_count": 12,
   "metadata": {},
   "outputs": [
    {
     "name": "stdout",
     "output_type": "stream",
     "text": [
      "date\n",
      "2010-12-31\n",
      "1970-01-01\n",
      "2010; 12; 31\n",
      "2017-11-03 1970-01-01 0001-01-01 9999-12-31 1 day, 0:00:00\n",
      "\n",
      "time\n",
      "23:59:59.023412\n",
      "00:59:59+00:00\n",
      "23 59 59 23412 None 0\n",
      "<class 'datetime.time'> 00:00:00 23:59:59.999999\n",
      "23:11:59\n",
      "\n",
      "datetime\n",
      "2010-12-31 23:59:59.000999\n",
      "2010; 12; 31; 23; 59\n",
      "2017-11-03 02:00:08.619398 2017-11-03 01:00:08.619405+00:00 2017-11-03 01:00:08.619409\n",
      "2010-07-31 11:59:59.000999\n",
      "2010-12-31 and 23:59:59.000999\n",
      "2010-12-31 23:59:59.023412\n"
     ]
    }
   ],
   "source": [
    "import datetime as dt\n",
    "\n",
    "# date, time, datetime (subclass of data hmm), timedelta, tzinfo, timezone\n",
    "# date always naive, time/datetime naive or aware (pass tzinfo during creation)\n",
    "# year must be in [0, 9999], month in [1, 12], day [1, month length], hour [0, 23], minute [0, 59] etc\n",
    "\n",
    "print('date')\n",
    "date1 = dt.date(year=2010, month=12, day=31)\n",
    "print(date1)\n",
    "date2 = dt.date(1970, 1, 1)\n",
    "print(date2)\n",
    "\n",
    "print(date1.year, date1.month, date1.day, sep='; ')\n",
    "print(dt.date.today(), dt.date.fromtimestamp(1000), dt.date.min, dt.date.max, dt.date.resolution)\n",
    "\n",
    "print('\\ntime')\n",
    "time1 = dt.time(hour=23, minute=59, second=59, microsecond=23412, tzinfo=None, fold=0)\n",
    "print(time1)\n",
    "time2 = dt.time(minute=59, second=59, tzinfo=dt.timezone.utc) # all optional\n",
    "print(time2)\n",
    "print(time1.hour, time1.minute, time1.second, time1.microsecond, time1.tzinfo, time1.fold)\n",
    "print(dt.time, dt.time.min, dt.time.max)\n",
    "print(time1.replace(minute=11, microsecond=0))\n",
    "\n",
    "print('\\ndatetime')\n",
    "datetime1 = dt.datetime(year=2010, month=12, day=31, hour=23, minute=59, \n",
    "                        second=59, microsecond=999, tzinfo=None, fold=0) \n",
    "# fold matters when hour changes due to dst, 0 = the earlier 2am, 1 = the latter (after the clock rollback)\n",
    "print(datetime1)\n",
    "datetime2 = dt.datetime(year=2010, month=6, day=4, minute=30) # optional starting from hour\n",
    "datetime3 = dt.datetime(year=2010, month=12, day=31, minute=30, tzinfo=dt.timezone.utc) # aware of tz when tz is not None\n",
    "\n",
    "print(datetime1.year, datetime1.month, datetime1.day, datetime1.hour, datetime1.minute, sep='; ')\n",
    "print(dt.datetime.today(), dt.datetime.now(dt.timezone.utc), dt.datetime.utcnow()) # today - naive local, utcnow - naive utc\n",
    "print(datetime1.replace(month=7, hour=11))\n",
    "print(datetime1.date(), datetime1.time(), sep=' and ')\n",
    "print(dt.datetime.combine(date1, time1)) # keeps tzinfo from time"
   ]
  },
  {
   "cell_type": "code",
   "execution_count": 13,
   "metadata": {},
   "outputs": [
    {
     "name": "stdout",
     "output_type": "stream",
     "text": [
      "9 days, 3:04:05.006007\n",
      "12 days, 1:04:00\n",
      "11 days, 22:56:00\n",
      "21 days, 4:08:05.006007; 4 days, 13:32:02.503004; -12 days, 1:04:00\n",
      "14974 days, 0:00:00 <class 'datetime.timedelta'>\n",
      "210 days, 23:29:59.000999 <class 'datetime.timedelta'>\n"
     ]
    }
   ],
   "source": [
    "td0 = dt.timedelta(weeks=1, days=2, hours=3, minutes=4, seconds=5, milliseconds=6, microseconds=7)\n",
    "print(td0)\n",
    "td1 = dt.timedelta(days=12, minutes=64) # wraps\n",
    "print(td1)\n",
    "td2 = dt.timedelta(days=12, minutes=-64) # subtracts\n",
    "print(td2)\n",
    "print(td0 + td1, td0 / 2, -td2, sep='; ')\n",
    "\n",
    "print(date1 - date2, type(date1 - date2))\n",
    "\n",
    "print(datetime1 - datetime2, type(datetime1 - datetime2))\n",
    "# print(datetime1 - datetime3) # can only perform operations when both arguments aware or both naive"
   ]
  },
  {
   "cell_type": "code",
   "execution_count": 14,
   "metadata": {},
   "outputs": [
    {
     "name": "stdout",
     "output_type": "stream",
     "text": [
      "0:00:00; None; UTC\n",
      "-1 day, 19:00:00; 0:00:00; EST\n",
      "1:00:00; 0:00:00; CET\n",
      "5:00:00; 0:00:00; +05\n"
     ]
    }
   ],
   "source": [
    "import pytz # additional package from pip!\n",
    "\n",
    "zone1 = dt.timezone.utc\n",
    "zone2 = pytz.timezone('US/Eastern')\n",
    "zone3 = pytz.timezone('Europe/Amsterdam')\n",
    "zone4 = pytz.timezone('Asia/Samarkand')\n",
    "\n",
    "for zone in (zone1, zone2, zone3, zone4):\n",
    "    print(zone.utcoffset(datetime1), zone.dst(datetime1), zone.tzname(datetime1), sep='; ')"
   ]
  },
  {
   "cell_type": "code",
   "execution_count": 15,
   "metadata": {},
   "outputs": [
    {
     "name": "stdout",
     "output_type": "stream",
     "text": [
      "2010-12-31; Fri Dec 31 00:00:00 2010; 2010 12 31\n",
      "2010-12-31T23:59:59.000999; Fri Dec 31 23:59:59 2010; 2010 12 31 23 59 1293836399\n",
      "23:59:59.023412; 23 59 -2208907441\n",
      "1993-10-07 11:22:00\n"
     ]
    }
   ],
   "source": [
    "print(date1.isoformat(), date1.ctime(), date1.strftime('%Y %m %d'), sep='; ')\n",
    "print(datetime1.isoformat(), datetime1.ctime(), datetime1.strftime('%Y %m %d %H %M %s'), sep='; ')\n",
    "print(time1.isoformat(), time1.strftime('%H %M %s'), sep='; ')\n",
    "\n",
    "parsed_dt = dt.datetime.strptime('1993-10-07 11:22', '%Y-%m-%d %H:%M')\n",
    "print(parsed_dt)"
   ]
  },
  {
   "cell_type": "markdown",
   "metadata": {},
   "source": [
    "# Walking directories"
   ]
  },
  {
   "cell_type": "code",
   "execution_count": 16,
   "metadata": {},
   "outputs": [
    {
     "name": "stdout",
     "output_type": "stream",
     "text": [
      "['HelloFlask-checkpoint.ipynb', 'HelloSqlAlchemy-checkpoint.ipynb', 'HelloPython-checkpoint.ipynb', 'HelloClasses-checkpoint.ipynb', 'HelloVisualizations-checkpoint.ipynb', 'HelloDecorators-checkpoint.ipynb']\n",
      "<DirEntry 'HelloFlask-checkpoint.ipynb'> <DirEntry 'HelloSqlAlchemy-checkpoint.ipynb'> <DirEntry 'HelloPython-checkpoint.ipynb'> <DirEntry 'HelloClasses-checkpoint.ipynb'> <DirEntry 'HelloVisualizations-checkpoint.ipynb'> <DirEntry 'HelloDecorators-checkpoint.ipynb'>\n",
      ".ipynb_checkpoints/HelloFlask-checkpoint.ipynb\n",
      ".ipynb_checkpoints/HelloSqlAlchemy-checkpoint.ipynb\n",
      ".ipynb_checkpoints/HelloPython-checkpoint.ipynb\n",
      ".ipynb_checkpoints/HelloClasses-checkpoint.ipynb\n",
      ".ipynb_checkpoints/HelloVisualizations-checkpoint.ipynb\n",
      ".ipynb_checkpoints/HelloDecorators-checkpoint.ipynb\n"
     ]
    }
   ],
   "source": [
    "import os\n",
    "\n",
    "print(os.listdir(path='.ipynb_checkpoints')) # list contents of a directory\n",
    "\n",
    "with os.scandir(path='.ipynb_checkpoints') as entries: # returns an iterator of os.DirEntry\n",
    "    print(*entries) \n",
    "\n",
    "for dirpath, dnames, fnames in os.walk(\".ipynb_checkpoints\"): # recursive walk\n",
    "    if dirpath.startswith('.'):\n",
    "        for fname in fnames:\n",
    "            fpath = os.path.join(dirpath, fname) # os independent join\n",
    "            print(fpath)\n",
    "            \n",
    "# there are also:\n",
    "# os.mkdir os.makedirs os.remove os.removedir os.removedirs os.rename os.renames os.chmod os.chown os.chdir"
   ]
  },
  {
   "cell_type": "code",
   "execution_count": 17,
   "metadata": {},
   "outputs": [
    {
     "name": "stdout",
     "output_type": "stream",
     "text": [
      "os.stat_result(st_mode=33188, st_ino=4589749, st_dev=2049, st_nlink=1, st_uid=1000, st_gid=1000, st_size=26797, st_atime=1509401183, st_mtime=1509670803, st_ctime=1509670803)\n",
      "33188 2049 1000 1000 26797 1509401183.8266475 1509670803.1317866 1509670803.1317866\n"
     ]
    }
   ],
   "source": [
    "statinfo = os.stat('HelloPython.ipynb')\n",
    "print(statinfo)\n",
    "print(statinfo.st_mode, statinfo.st_dev, statinfo.st_uid, statinfo.st_gid, statinfo.st_size, \n",
    "      statinfo.st_atime, statinfo.st_mtime, statinfo.st_ctime) # a lot, really"
   ]
  },
  {
   "cell_type": "code",
   "execution_count": 18,
   "metadata": {},
   "outputs": [
    {
     "name": "stdout",
     "output_type": "stream",
     "text": [
      "<DirEntry 'HelloFlask-checkpoint.ipynb'>\n",
      "HelloFlask-checkpoint.ipynb .ipynb_checkpoints/HelloFlask-checkpoint.ipynb False True False\n",
      "os.stat_result(st_mode=33188, st_ino=11668329, st_dev=2049, st_nlink=1, st_uid=1000, st_gid=1000, st_size=1159, st_atime=1509666881, st_mtime=1509666887, st_ctime=1509666887)\n"
     ]
    }
   ],
   "source": [
    "with os.scandir(path='.ipynb_checkpoints') as entries: # returns an iterator of os.DirEntry\n",
    "    entry = next(entries)\n",
    "    print(entry)\n",
    "    print(entry.name, entry.path, entry.is_dir(), entry.is_file(), entry.is_symlink())\n",
    "    print(entry.stat())"
   ]
  },
  {
   "cell_type": "code",
   "execution_count": 19,
   "metadata": {},
   "outputs": [
    {
     "name": "stdout",
     "output_type": "stream",
     "text": [
      "/usr/delegated/michal/Workspace/PycharmProjects/yo\n",
      "hi/hey\n",
      "False\n",
      "/home/michal/.\n",
      "hey/yo/ho.txt\n",
      "yo/ho.txt\n",
      "/usr/delegated/michal/Workspace/PycharmProjects/hello-python/yo/ho.txt\n",
      "../../../../../../where/are/you\n",
      "1509401183.8266475\n",
      "26797\n",
      "True\n",
      "False\n"
     ]
    }
   ],
   "source": [
    "print(os.path.abspath('../yo'))\n",
    "print(os.path.dirname('hi/hey/ho'))\n",
    "print(os.path.exists('../yo'))\n",
    "print(os.path.expanduser('~/.'))\n",
    "print(os.path.join('hey', 'yo', 'ho.txt')) \n",
    "print(os.path.normpath('yo/bro/./hey/../../ho.txt')) \n",
    "print(os.path.realpath('yo/bro/./hey/../../ho.txt')) \n",
    "print(os.path.relpath('/where/are/you')) \n",
    "print(os.path.getatime('HelloPython.ipynb')) # or FileNotFoundError\n",
    "print(os.path.getsize('HelloPython.ipynb')) \n",
    "print(os.path.isfile('HelloPython.ipynb')) \n",
    "print(os.path.isdir('HelloPython.ipynb')) "
   ]
  },
  {
   "cell_type": "markdown",
   "metadata": {},
   "source": [
    "# Compression"
   ]
  },
  {
   "cell_type": "code",
   "execution_count": null,
   "metadata": {},
   "outputs": [],
   "source": []
  },
  {
   "cell_type": "markdown",
   "metadata": {},
   "source": [
    "# Json"
   ]
  },
  {
   "cell_type": "code",
   "execution_count": 20,
   "metadata": {},
   "outputs": [
    {
     "name": "stdout",
     "output_type": "stream",
     "text": [
      "<class 'list'> ['foo', {'bar': ['baz', None, 1.0, 2], 'moo': True}]\n",
      "<class 'str'> [\n",
      "  \"foo\",\n",
      "  {\n",
      "    \"bar\": [\n",
      "      \"baz\",\n",
      "      null,\n",
      "      1.0,\n",
      "      2\n",
      "    ],\n",
      "    \"moo\": true\n",
      "  }\n",
      "]\n"
     ]
    }
   ],
   "source": [
    "import json\n",
    "\n",
    "doc = '[\"foo\", {\"bar\":[\"baz\", null, 1.0, 2], \"moo\": true}]'\n",
    "doc_loaded = json.loads(doc)\n",
    "print(type(doc_loaded), doc_loaded)\n",
    "doc_dumped = json.dumps(doc_loaded, indent=2, sort_keys=True)\n",
    "print(type(doc_dumped), doc_dumped)"
   ]
  },
  {
   "cell_type": "code",
   "execution_count": 21,
   "metadata": {},
   "outputs": [
    {
     "name": "stdout",
     "output_type": "stream",
     "text": [
      "<class 'list'> ['foo', {'bar': ['baz', None, 1.0, 2], 'moo': True}]\n",
      "<class 'str'> [\n",
      "    \"foo\",\n",
      "    {\n",
      "        \"bar\": [\n",
      "            \"baz\",\n",
      "            null,\n",
      "            1.0,\n",
      "            2\n",
      "        ],\n",
      "        \"moo\": true\n",
      "    }\n",
      "]\n"
     ]
    }
   ],
   "source": [
    "import io # by the way this is a Python module for in memory streams\n",
    "\n",
    "with io.StringIO(doc) as opened:\n",
    "    doc_loaded2 = json.load(opened)\n",
    "print(type(doc_loaded2), doc_loaded2)\n",
    "\n",
    "with io.StringIO() as opened:\n",
    "    json.dump(doc_loaded2, opened, indent=4)\n",
    "    doc_dumped2 = opened.getvalue()\n",
    "print(type(doc_dumped2), doc_dumped2)"
   ]
  },
  {
   "cell_type": "markdown",
   "metadata": {},
   "source": [
    "# Concurrency"
   ]
  },
  {
   "cell_type": "code",
   "execution_count": null,
   "metadata": {},
   "outputs": [],
   "source": []
  },
  {
   "cell_type": "markdown",
   "metadata": {},
   "source": [
    "# Logging"
   ]
  },
  {
   "cell_type": "code",
   "execution_count": null,
   "metadata": {},
   "outputs": [],
   "source": []
  },
  {
   "cell_type": "markdown",
   "metadata": {},
   "source": [
    "# Pickles"
   ]
  },
  {
   "cell_type": "code",
   "execution_count": null,
   "metadata": {},
   "outputs": [],
   "source": []
  },
  {
   "cell_type": "markdown",
   "metadata": {},
   "source": [
    "# Internationalization"
   ]
  },
  {
   "cell_type": "code",
   "execution_count": 22,
   "metadata": {},
   "outputs": [],
   "source": [
    "import gettext\n",
    "\n"
   ]
  },
  {
   "cell_type": "code",
   "execution_count": 23,
   "metadata": {},
   "outputs": [
    {
     "name": "stdout",
     "output_type": "stream",
     "text": [
      "UTF-8 Sunday January ,\n",
      "('en_US', 'UTF-8')\n",
      "$100.56\n",
      "1005.3352\n"
     ]
    }
   ],
   "source": [
    "import locale # not too exciting\n",
    "\n",
    "locale.setlocale(locale.LC_ALL, '')\n",
    "\n",
    "print(*(locale.nl_langinfo(option) for option in [locale.CODESET, locale.DAY_1, locale.MON_1, locale.THOUSEP]))\n",
    "\n",
    "print(locale.getdefaultlocale())\n",
    "print(locale.currency(100.555))\n",
    "print(locale.str(1005.3352))"
   ]
  }
 ],
 "metadata": {
  "kernelspec": {
   "display_name": "Python 3",
   "language": "python",
   "name": "python3"
  },
  "language_info": {
   "codemirror_mode": {
    "name": "ipython",
    "version": 3
   },
   "file_extension": ".py",
   "mimetype": "text/x-python",
   "name": "python",
   "nbconvert_exporter": "python",
   "pygments_lexer": "ipython3",
   "version": "3.6.3"
  },
  "varInspector": {
   "cols": {
    "lenName": 16,
    "lenType": 16,
    "lenVar": 40
   },
   "kernels_config": {
    "python": {
     "delete_cmd_postfix": "",
     "delete_cmd_prefix": "del ",
     "library": "var_list.py",
     "varRefreshCmd": "print(var_dic_list())"
    },
    "r": {
     "delete_cmd_postfix": ") ",
     "delete_cmd_prefix": "rm(",
     "library": "var_list.r",
     "varRefreshCmd": "cat(var_dic_list()) "
    }
   },
   "position": {
    "height": "457px",
    "left": "1550px",
    "right": "20px",
    "top": "120px",
    "width": "357px"
   },
   "types_to_exclude": [
    "module",
    "function",
    "builtin_function_or_method",
    "instance",
    "_Feature"
   ],
   "window_display": true
  }
 },
 "nbformat": 4,
 "nbformat_minor": 2
}
