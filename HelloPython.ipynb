{
 "cells": [
  {
   "cell_type": "markdown",
   "metadata": {},
   "source": [
    "# Hello Python\n",
    "\n",
    "I put some examples of usage of various Python modules. Note that this is just something for me to quickly refresh my memory, you should just read the documentation for explanations and full coverage of module capabilities. "
   ]
  },
  {
   "cell_type": "code",
   "execution_count": 1,
   "metadata": {},
   "outputs": [],
   "source": [
    "import math\n",
    "import os\n",
    "import random\n",
    "import sys"
   ]
  },
  {
   "cell_type": "markdown",
   "metadata": {},
   "source": [
    "# Input / Output"
   ]
  },
  {
   "cell_type": "code",
   "execution_count": 2,
   "metadata": {},
   "outputs": [
    {
     "name": "stdout",
     "output_type": "stream",
     "text": [
      "Don't talk to strangers\n",
      "Don't talk to strangers\n",
      "\n",
      "Don't, talk, to, strangers\n",
      "Don't talk to strangers\n"
     ]
    }
   ],
   "source": [
    "print(\"Don't talk to strangers\")\n",
    "print(\"Don't talk to strangers\", end='\\n\\n')\n",
    "print(\"Don't\", \"talk\", \"to\", \"strangers\", sep=', ')\n",
    "print(\"Don't talk to strangers\", file=sys.stdout, flush=True)"
   ]
  },
  {
   "cell_type": "code",
   "execution_count": 3,
   "metadata": {},
   "outputs": [
    {
     "name": "stdout",
     "output_type": "stream",
     "text": [
      "eggs and spam and eggs\n",
      "This spam is absolutely horrible. Also 3 + 1 = ?\n",
      "31.416,   31.416, \n",
      "  31.416.\n"
     ]
    }
   ],
   "source": [
    "print('{1} and {0} and {1}'.format('spam', 'eggs')) # use duplicate indices\n",
    "print('This {food} is {adjective}. Also {1} + {0} = ?'.format( # pass kwargs and use their keys\n",
    "    1, 3, food='spam', adjective='absolutely horrible'\n",
    "))\n",
    "print('{0:.3f}, {0:8.3f}, '.format(10 * math.pi)) # {key:width.precisionf}\n",
    "\n",
    "print('%8.3f.' % (10 * math.pi))# old printf style"
   ]
  },
  {
   "cell_type": "code",
   "execution_count": 4,
   "metadata": {},
   "outputs": [
    {
     "name": "stdout",
     "output_type": "stream",
     "text": [
      "Since 3.6 Python has format strings! Use values from the context like this a=1024 rest=[1, 2, 3]\n"
     ]
    }
   ],
   "source": [
    "a = 10\n",
    "rest = [1, 2, 3]\n",
    "print(f\"Since 3.6 Python has format strings! Use values from the context like this a={2**a} rest={rest}\")"
   ]
  },
  {
   "cell_type": "code",
   "execution_count": 5,
   "metadata": {},
   "outputs": [
    {
     "name": "stdout",
     "output_type": "stream",
     "text": [
      "440 om too m\n",
      "440 16\n",
      "440 16\n",
      "440 16\n",
      "440 16\n"
     ]
    }
   ],
   "source": [
    "with open('garden.txt') as opened:\n",
    "    content = opened.read() # reads everything as one string\n",
    "    chars = len(content)\n",
    "    print(chars, content[2:10])\n",
    "\n",
    "with open('garden.txt') as opened:\n",
    "    lines, chars = 0, 0\n",
    "    line = opened.readline()\n",
    "    while line:\n",
    "        lines += 1\n",
    "        chars += len(line)\n",
    "        line = opened.readline()\n",
    "    print(chars, lines)\n",
    "\n",
    "with open('garden.txt') as opened:\n",
    "    lines, chars = 0, 0\n",
    "    for line in opened:\n",
    "        lines += 1\n",
    "        chars += len(line)\n",
    "    print(chars, lines)\n",
    "\n",
    "with open('garden.txt') as opened: # this is the idiomatic way if you have no special requirements\n",
    "    lines, chars = 0, 0\n",
    "    for line in opened: # this is memory efficient since it is a generator\n",
    "        lines += 1\n",
    "        chars += len(line)\n",
    "    print(chars, lines)\n",
    "    \n",
    "with open('garden.txt') as opened:\n",
    "    content = opened.readlines() # reads everything split into lines\n",
    "    lines = len(content)\n",
    "    chars = sum(map(len, content))\n",
    "    print(chars, lines)"
   ]
  },
  {
   "cell_type": "markdown",
   "metadata": {},
   "source": [
    "# Regexes and Globs"
   ]
  },
  {
   "cell_type": "code",
   "execution_count": 6,
   "metadata": {},
   "outputs": [
    {
     "name": "stdout",
     "output_type": "stream",
     "text": [
      "<class 'str'> [^abc]\\d{2}\n",
      "<class '_sre.SRE_Pattern'> re.compile('[^abc]\\\\d{2}')\n",
      "match\n",
      "None\n",
      "<_sre.SRE_Match object; span=(0, 3), match='p54'>\n",
      "fullmatch\n",
      "None\n",
      "None\n",
      "<_sre.SRE_Match object; span=(0, 3), match='p54'>\n",
      "search\n",
      "<_sre.SRE_Match object; span=(4, 7), match='C32'>\n",
      "<_sre.SRE_Match object; span=(8, 11), match='p54'>\n",
      "findall\n",
      "['p54', 'h99', 'y11']\n",
      "finditer\n",
      "<callable_iterator object at 0x7faf8b75cf98>\n",
      "First:  <_sre.SRE_Match object; span=(8, 11), match='p54'>\n",
      "split\n",
      "['a12', 'c32', '', 'p54', 'b23', 'h99 y11']\n",
      "sub\n",
      "a__ c__ p__ b__ h_9 y11\n"
     ]
    }
   ],
   "source": [
    "import re\n",
    "\n",
    "regex_string = r'[^abc]\\d{2}' # r - raw string notation, no need to escape backslashes \\\\d\n",
    "print(type(regex_string), regex_string) # still a string, not compiled\n",
    "\n",
    "compiled_regex = re.compile(regex_string)\n",
    "print(type(compiled_regex), compiled_regex)\n",
    "\n",
    "print('match')\n",
    "print(re.match(regex_string, 'a12 p54 b23'))\n",
    "print(re.match(regex_string, 'p54 b23')) # matches prefix\n",
    "\n",
    "print('fullmatch')\n",
    "print(re.fullmatch(regex_string, 'a12 p54 b23'))\n",
    "print(re.fullmatch(regex_string, 'p54 b23'))\n",
    "print(re.fullmatch(regex_string, 'p54'))  # only matches full string\n",
    "\n",
    "print('search')\n",
    "print(re.search(regex_string, 'a12 C32 p54 b23 h99 y11')) # matches anywhere\n",
    "print(re.search(regex_string, 'a12 C32 p54 b23 h99 y11', flags=re.I)) \n",
    "# many useful flags, passed to function or to compile\n",
    "# match: group() returns string, start() end() and span() return positions of match\n",
    "\n",
    "print('findall')\n",
    "print(re.findall(regex_string, 'a12 c32 p54 b23 h99 y11'))\n",
    "\n",
    "print('finditer')\n",
    "print(re.finditer(regex_string, 'a12 c32 p54 b23 h99 y11'))\n",
    "print('First: ', next(re.finditer(regex_string, 'a12 c32 p54 b23 h99 y11')))\n",
    "\n",
    "print('split')\n",
    "print(re.split(r'\\s', 'a12 c32  p54 b23\\th99 y11', maxsplit=5))\n",
    "\n",
    "print('sub')\n",
    "print(re.sub(r'\\d', '_', 'a12 c32 p54 b23 h99 y11', count=9))"
   ]
  },
  {
   "cell_type": "code",
   "execution_count": 7,
   "metadata": {},
   "outputs": [
    {
     "name": "stdout",
     "output_type": "stream",
     "text": [
      "<_sre.SRE_Match object; span=(0, 7), match='0120340'>\n",
      "<_sre.SRE_Match object; span=(0, 4), match='0120'>\n"
     ]
    }
   ],
   "source": [
    "# Useful regex concept:\n",
    "\n",
    "print(re.match('0\\d*0', '012034056')) # greedy * matches all it can '0120340'\n",
    "print(re.match('0\\d*?0', '012034056')) # lazy *? matches as few characters as possible '0120'\n",
    "\n",
    "# Also those, but better refer to docs when there is a need\n",
    "# \\w - unicode word characted \n",
    "# \\s - whitespace\n",
    "# \\d digit\n",
    "# \\b - beginning and end of a word\n",
    "\n",
    "# \\W \\S - matches all that the lowercase version does not match"
   ]
  },
  {
   "cell_type": "code",
   "execution_count": 8,
   "metadata": {},
   "outputs": [
    {
     "name": "stdout",
     "output_type": "stream",
     "text": [
      "['garden.txt']\n"
     ]
    }
   ],
   "source": [
    "import glob\n",
    "\n",
    "print(glob.glob('*.txt'))\n",
    "\n",
    "# by the way, python globs do not support recursive ** !! Use glob2 package "
   ]
  },
  {
   "cell_type": "markdown",
   "metadata": {
    "collapsed": true
   },
   "source": [
    "# Exceptions"
   ]
  },
  {
   "cell_type": "code",
   "execution_count": 9,
   "metadata": {},
   "outputs": [],
   "source": [
    "class CustomException(Exception): # must be a subclass of Exception\n",
    "    pass\n",
    "\n",
    "class NotAException:\n",
    "    pass\n",
    "\n",
    "# raise CustomException('everything will be fire') # CustomException: everything will be fire\n",
    "# raise NotAException # TypeError: exceptions must derive from BaseException"
   ]
  },
  {
   "cell_type": "code",
   "execution_count": 10,
   "metadata": {},
   "outputs": [
    {
     "name": "stdout",
     "output_type": "stream",
     "text": [
      "Everything went okay\n",
      "Always excecute, cleanup\n"
     ]
    }
   ],
   "source": [
    "try:\n",
    "    pass\n",
    "#     raise ValueError('bad stuff')\n",
    "except OSError as err: # bind exception to variable\n",
    "    print(\"OS error: {0}\".format(err))\n",
    "except (RuntimeError, TypeError, NameError): # multiple\n",
    "    print(\"Could not convert data to an integer.\")\n",
    "except: # handle all other exceptions\n",
    "    print(\"Unexpected error:\", sys.exc_info()[0])\n",
    "    raise\n",
    "else:\n",
    "    print('Everything went okay')\n",
    "finally:\n",
    "    print('Always excecute, cleanup')"
   ]
  },
  {
   "cell_type": "markdown",
   "metadata": {},
   "source": [
    "# Random"
   ]
  },
  {
   "cell_type": "code",
   "execution_count": 11,
   "metadata": {},
   "outputs": [
    {
     "name": "stdout",
     "output_type": "stream",
     "text": [
      "12\n",
      "14\n",
      "b\n",
      "['b', 'e', 'a']\n",
      "['d', 'c', 'a', 'e', 'b']\n",
      "0.7446921713252124\n",
      "-1.8501301023520411\n",
      "2.970174481495891\n"
     ]
    }
   ],
   "source": [
    "random.seed(13) # global seed\n",
    "\n",
    "print(random.randrange(9, 18, 3)) # 9, 12, 15 Not including 18, just like range\n",
    "print(random.randint(10, 20)) # [10, 20] inclusive\n",
    "\n",
    "chars = ['a', 'b', 'c', 'd', 'e']\n",
    "print(random.choice(chars))\n",
    "print(random.sample(chars, 3))\n",
    "random.shuffle(chars)\n",
    "print(chars)\n",
    "\n",
    "print(random.random()) # uniform [0.0, 1.0)\n",
    "print(random.uniform(-2.0, 3.0)) # uniform [a, b]\n",
    "print(random.normalvariate(5.0, 1.0))\n",
    "# other like triangular(low, high, mode), gammavariate(alpha, beta), weibullvariate(alpha, beta)"
   ]
  },
  {
   "cell_type": "markdown",
   "metadata": {},
   "source": [
    "# Datetime"
   ]
  },
  {
   "cell_type": "code",
   "execution_count": null,
   "metadata": {},
   "outputs": [],
   "source": []
  },
  {
   "cell_type": "markdown",
   "metadata": {},
   "source": [
    "# Walking directories"
   ]
  },
  {
   "cell_type": "code",
   "execution_count": null,
   "metadata": {},
   "outputs": [],
   "source": []
  },
  {
   "cell_type": "markdown",
   "metadata": {},
   "source": [
    "# Compression"
   ]
  },
  {
   "cell_type": "code",
   "execution_count": null,
   "metadata": {},
   "outputs": [],
   "source": []
  },
  {
   "cell_type": "markdown",
   "metadata": {},
   "source": [
    "# Json"
   ]
  },
  {
   "cell_type": "code",
   "execution_count": null,
   "metadata": {},
   "outputs": [],
   "source": []
  },
  {
   "cell_type": "markdown",
   "metadata": {},
   "source": [
    "# Xml"
   ]
  },
  {
   "cell_type": "code",
   "execution_count": null,
   "metadata": {},
   "outputs": [],
   "source": []
  },
  {
   "cell_type": "markdown",
   "metadata": {},
   "source": [
    "# Concurrency"
   ]
  },
  {
   "cell_type": "code",
   "execution_count": null,
   "metadata": {},
   "outputs": [],
   "source": []
  },
  {
   "cell_type": "markdown",
   "metadata": {},
   "source": [
    "# Logging"
   ]
  },
  {
   "cell_type": "code",
   "execution_count": null,
   "metadata": {},
   "outputs": [],
   "source": []
  },
  {
   "cell_type": "markdown",
   "metadata": {},
   "source": [
    "# Pickles"
   ]
  },
  {
   "cell_type": "code",
   "execution_count": null,
   "metadata": {},
   "outputs": [],
   "source": []
  },
  {
   "cell_type": "markdown",
   "metadata": {},
   "source": [
    "# Internationalization"
   ]
  },
  {
   "cell_type": "code",
   "execution_count": null,
   "metadata": {},
   "outputs": [],
   "source": []
  }
 ],
 "metadata": {
  "kernelspec": {
   "display_name": "Python 3",
   "language": "python",
   "name": "python3"
  },
  "language_info": {
   "codemirror_mode": {
    "name": "ipython",
    "version": 3
   },
   "file_extension": ".py",
   "mimetype": "text/x-python",
   "name": "python",
   "nbconvert_exporter": "python",
   "pygments_lexer": "ipython3",
   "version": "3.6.3"
  },
  "varInspector": {
   "cols": {
    "lenName": 16,
    "lenType": 16,
    "lenVar": 40
   },
   "kernels_config": {
    "python": {
     "delete_cmd_postfix": "",
     "delete_cmd_prefix": "del ",
     "library": "var_list.py",
     "varRefreshCmd": "print(var_dic_list())"
    },
    "r": {
     "delete_cmd_postfix": ") ",
     "delete_cmd_prefix": "rm(",
     "library": "var_list.r",
     "varRefreshCmd": "cat(var_dic_list()) "
    }
   },
   "types_to_exclude": [
    "module",
    "function",
    "builtin_function_or_method",
    "instance",
    "_Feature"
   ],
   "window_display": true
  }
 },
 "nbformat": 4,
 "nbformat_minor": 2
}
