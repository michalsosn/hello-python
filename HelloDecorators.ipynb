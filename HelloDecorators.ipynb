{
 "cells": [
  {
   "cell_type": "markdown",
   "metadata": {},
   "source": [
    "https://github.com/hchasestevens/posts/blob/master/notebooks/the-decorators-they-wont-tell-you-about.ipynb#blob_contributors_box"
   ]
  },
  {
   "cell_type": "code",
   "execution_count": 1,
   "metadata": {},
   "outputs": [],
   "source": [
    "import functools as ft"
   ]
  },
  {
   "cell_type": "code",
   "execution_count": 2,
   "metadata": {},
   "outputs": [
    {
     "name": "stdout",
     "output_type": "stream",
     "text": [
      "9\n"
     ]
    }
   ],
   "source": [
    "def name(function):\n",
    "    return function.__name__\n",
    "\n",
    "@len    # note that decoratos can return anything, like a number, even though in real application they \n",
    "@name   # usually return functions or callable objects\n",
    "def print_sth():\n",
    "    print('Hello world')\n",
    "    \n",
    "print(print_sth)"
   ]
  },
  {
   "cell_type": "code",
   "execution_count": 3,
   "metadata": {},
   "outputs": [
    {
     "name": "stdout",
     "output_type": "stream",
     "text": [
      "Help on function fib in module __main__:\n",
      "\n",
      "fib(n)\n",
      "    Calculates nth Fibonacci number\n",
      "\n",
      "fib was called 1 times\n",
      "5\n",
      "fib was called 2 times\n",
      "3\n",
      "fib was called 3 times\n",
      "5\n"
     ]
    }
   ],
   "source": [
    "def counting_decorator(function):\n",
    "    @ft.wraps(function) # absolutely vital! copies metadata / docstring\n",
    "    def wrapped(*args, **kwargs):\n",
    "        try:\n",
    "            return function(*args, **kwargs)\n",
    "        finally:\n",
    "            wrapped.called += 1 # adding a local variable to outer context won't work, it can't be changed\n",
    "            print('{} was called {} times'.format(function.__name__, wrapped.called))\n",
    "    wrapped.called = 0\n",
    "    return wrapped\n",
    "\n",
    "@counting_decorator\n",
    "def fib(n):\n",
    "    \"\"\"Calculates nth Fibonacci number\"\"\"\n",
    "    a, b = 1, 1\n",
    "    while n > 0:\n",
    "        a, b = a + b, a\n",
    "        n -= 1\n",
    "    return a\n",
    "\n",
    "\n",
    "help(fib)\n",
    "print(fib(3))\n",
    "print(fib(2))\n",
    "print(fib(3))"
   ]
  },
  {
   "cell_type": "code",
   "execution_count": 4,
   "metadata": {},
   "outputs": [
    {
     "name": "stdout",
     "output_type": "stream",
     "text": [
      "Hello world\n",
      "Hello world\n",
      "Hello world\n",
      "Hello world\n",
      "Hello world\n",
      "Hello world\n",
      "Hello world\n",
      "Hello world\n"
     ]
    }
   ],
   "source": [
    "def twice(function):\n",
    "    @ft.wraps(function)\n",
    "    def wrapped(*args, **kwargs):\n",
    "        function(*args, **kwargs)\n",
    "        function(*args, **kwargs)\n",
    "    return wrapped\n",
    "\n",
    "@twice\n",
    "@twice\n",
    "def print_sth():\n",
    "    print('Hello world')\n",
    "print_sth = twice(print_sth)\n",
    "    \n",
    "print_sth()"
   ]
  }
 ],
 "metadata": {
  "kernelspec": {
   "display_name": "Python 3",
   "language": "python",
   "name": "python3"
  },
  "language_info": {
   "codemirror_mode": {
    "name": "ipython",
    "version": 3
   },
   "file_extension": ".py",
   "mimetype": "text/x-python",
   "name": "python",
   "nbconvert_exporter": "python",
   "pygments_lexer": "ipython3",
   "version": "3.6.3"
  },
  "varInspector": {
   "cols": {
    "lenName": 16,
    "lenType": 16,
    "lenVar": 40
   },
   "kernels_config": {
    "python": {
     "delete_cmd_postfix": "",
     "delete_cmd_prefix": "del ",
     "library": "var_list.py",
     "varRefreshCmd": "print(var_dic_list())"
    },
    "r": {
     "delete_cmd_postfix": ") ",
     "delete_cmd_prefix": "rm(",
     "library": "var_list.r",
     "varRefreshCmd": "cat(var_dic_list()) "
    }
   },
   "types_to_exclude": [
    "module",
    "function",
    "builtin_function_or_method",
    "instance",
    "_Feature"
   ],
   "window_display": false
  }
 },
 "nbformat": 4,
 "nbformat_minor": 2
}
